{
 "cells": [
  {
   "cell_type": "code",
   "execution_count": 48,
   "metadata": {},
   "outputs": [
    {
     "name": "stderr",
     "output_type": "stream",
     "text": [
      "3025.66s - pydevd: Sending message related to process being replaced timed-out after 5 seconds\n"
     ]
    }
   ],
   "source": [
    "%%capture --no-stderr\n",
    "%pip install -U langgraph_sdk"
   ]
  },
  {
   "cell_type": "code",
   "execution_count": 49,
   "metadata": {},
   "outputs": [],
   "source": [
    "from langgraph_sdk import get_client\n",
    "\n",
    "# Connect via SDK\n",
    "url_for_cli_deployment = \"http://localhost:8123\"\n",
    "client = get_client(url=url_for_cli_deployment)"
   ]
  },
  {
   "cell_type": "code",
   "execution_count": 50,
   "metadata": {},
   "outputs": [
    {
     "data": {
      "text/plain": [
       "{'thread_id': '2e85f416-a4c0-49b4-890d-375ba58d7604',\n",
       " 'created_at': '2025-01-21T23:35:50.846391+00:00',\n",
       " 'updated_at': '2025-01-21T23:35:50.846391+00:00',\n",
       " 'metadata': {},\n",
       " 'status': 'idle',\n",
       " 'config': {},\n",
       " 'values': None,\n",
       " 'interrupts': {}}"
      ]
     },
     "execution_count": 50,
     "metadata": {},
     "output_type": "execute_result"
    }
   ],
   "source": [
    "# Create a thread\n",
    "thread = await client.threads.create()\n",
    "thread"
   ]
  },
  {
   "cell_type": "code",
   "execution_count": 51,
   "metadata": {},
   "outputs": [
    {
     "name": "stdout",
     "output_type": "stream",
     "text": [
      "[]\n"
     ]
    }
   ],
   "source": [
    "# Check any existing runs on a thread\n",
    "\n",
    "runs = await client.runs.list(thread[\"thread_id\"])\n",
    "print(runs)"
   ]
  },
  {
   "cell_type": "code",
   "execution_count": 52,
   "metadata": {},
   "outputs": [],
   "source": [
    "\n",
    "from langchain_core.messages import HumanMessage\n",
    "# Ensure we've created some ToDos and saved them to my user_id\n",
    "\n",
    "user_input = \"Write an article on Typescript\"\n",
    "config = {\"configurable\": {\"user_id\": \"Test\"}}\n",
    "graph_name = \"article_assistant\" \n",
    "run = await client.runs.create(thread[\"thread_id\"], graph_name, input={\"topic\": [HumanMessage(content=\"Hi, I am Rahil. Software Engineer\")]}, config=config)"
   ]
  },
  {
   "cell_type": "code",
   "execution_count": 55,
   "metadata": {},
   "outputs": [
    {
     "name": "stdout",
     "output_type": "stream",
     "text": [
      "{'run_id': '1efd8507-7ec9-653c-9561-d0b5fcd41e31', 'thread_id': '2e85f416-a4c0-49b4-890d-375ba58d7604', 'assistant_id': '131626d9-5f57-5714-8c26-6b041f845f5d', 'created_at': '2025-01-21T23:35:59.282300+00:00', 'updated_at': '2025-01-21T23:35:59.282300+00:00', 'metadata': {'assistant_id': '131626d9-5f57-5714-8c26-6b041f845f5d'}, 'status': 'error', 'kwargs': {'input': {'topic': [{'id': None, 'name': None, 'type': 'human', 'content': 'Hi, I am Rahil. Software Engineer', 'example': False, 'additional_kwargs': {}, 'response_metadata': {}}]}, 'config': {'metadata': {'created_by': 'system', 'assistant_id': '131626d9-5f57-5714-8c26-6b041f845f5d'}, 'configurable': {'run_id': '1efd8507-7ec9-653c-9561-d0b5fcd41e31', 'user_id': 'Test', 'graph_id': 'article_assistant', 'thread_id': '2e85f416-a4c0-49b4-890d-375ba58d7604', 'assistant_id': '131626d9-5f57-5714-8c26-6b041f845f5d', 'langgraph_auth_user': None, 'langgraph_auth_user_id': '', 'langgraph_auth_permissions': []}}, 'command': None, 'webhook': None, 'subgraphs': False, 'temporary': False, 'stream_mode': ['values'], 'feedback_keys': None, 'interrupt_after': None, 'interrupt_before': None}, 'multitask_strategy': 'reject'}\n"
     ]
    }
   ],
   "source": [
    "# Check the run status\n",
    "print(await client.runs.get(thread[\"thread_id\"], run[\"run_id\"]))"
   ]
  },
  {
   "cell_type": "code",
   "execution_count": 47,
   "metadata": {},
   "outputs": [
    {
     "name": "stdout",
     "output_type": "stream",
     "text": [
      "================================\u001b[1m Human Message \u001b[0m=================================\n",
      "\n",
      "messages\n",
      "================================\u001b[1m Human Message \u001b[0m=================================\n",
      "\n",
      "topic\n",
      "================================\u001b[1m Human Message \u001b[0m=================================\n",
      "\n",
      "context\n",
      "================================\u001b[1m Human Message \u001b[0m=================================\n",
      "\n",
      "article\n"
     ]
    }
   ],
   "source": [
    "from langchain_core.messages import convert_to_messages\n",
    "thread_state = await client.threads.get_state(thread['thread_id'])\n",
    "for m in convert_to_messages(thread_state['values']):\n",
    "    m.pretty_print()"
   ]
  },
  {
   "cell_type": "code",
   "execution_count": null,
   "metadata": {},
   "outputs": [],
   "source": []
  }
 ],
 "metadata": {
  "kernelspec": {
   "display_name": "v-environment",
   "language": "python",
   "name": "python3"
  },
  "language_info": {
   "codemirror_mode": {
    "name": "ipython",
    "version": 3
   },
   "file_extension": ".py",
   "mimetype": "text/x-python",
   "name": "python",
   "nbconvert_exporter": "python",
   "pygments_lexer": "ipython3",
   "version": "3.11.9"
  }
 },
 "nbformat": 4,
 "nbformat_minor": 2
}
